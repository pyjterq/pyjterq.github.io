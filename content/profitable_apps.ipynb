{
  "cells": [
    {
      "cell_type": "markdown",
      "source": "## Profile opłacalnych aplikacji w Google Play Markets i App Store\nNaszym celem jest znalezienie najbardziej dochodowych aplikacji\n w sklepach Google Play i Apps Store aby pozwolić naszej firmie\n podjąć decyzje bazujące na analizie danych co do budowy najbardziej\n aplikacji opłacalnych aplikacji.\n \n Poszukujemy profilu najbardziej popularnych darmowych aplikacji, \n które dają możliwość zarabiania na reklamach.\n",
      "metadata": {
        "pycharm": {
          "metadata": false,
          "name": "#%% md\n"
        }
      }
    },
    {
      "cell_type": "markdown",
      "source": "## Dane o aplikacjach\nW Google Play Markets jak i App Store znajduję się po około 2 mln aplikacji. Zdobycie \nszczegółowych informacji na ich temat jest zasobochłonne. Zajmuje wiele czasu, jak i jest drogie.\nDlatego w niniejszej analizie wykorzystano dane ogólnie dostępne pod poniższymi  linkami:\n- [Zestaw danych](https://www.kaggle.com/lava18/google-play-store-apps/home) obejmujący około 10 tysięcy aplikacji Androika z Google Play\n- [Zestaw danych](https://www.kaggle.com/ramamet4/app-store-apple-data-set-10k-apps/home) obejmujący około 7 tysięcy aplikacji  iOS z App Store\n\nNa początku uzyskujemy dostęp  do danych:\n",
      "metadata": {
        "pycharm": {
          "metadata": false,
          "name": "#%% md\n"
        }
      }
    },
    {
      "cell_type": "code",
      "execution_count": 1,
      "metadata": {
        "collapsed": true,
        "pycharm": {
          "is_executing": false
        }
      },
      "outputs": [],
      "source": "from csv import reader\n# The App Store data set\nopen_file_a \u003d open(\u0027AppleStore.csv\u0027)\nreade_file_a \u003d reader(open_file_a)\ni_apps_list \u003d list(reade_file_a)\ni_apps_header \u003d i_apps_list[0]\ni_apps \u003d i_apps_list[1:]\n#The Google Play data set\nopen_file_g \u003d open(\u0027googleplaystore.csv\u0027)\nreade_file_g \u003d reader(open_file_g)\ng_apps_list \u003d list(reade_file_g)\ng_apps_header \u003d g_apps_list[0]\ng_apps \u003d g_apps_list[1:]\n"
    },
    {
      "cell_type": "markdown",
      "source": "Do eksploracji danych wykorzystujemy poniższą funkcję, która umożliwia wyświetlenie zawartości tabeli\nzawierającej informacje na temat badanych aplikacji. Możemy wyświetlić zarówno zawartość tabeli jak i jej rozmiary (kolumny i wiersze).",
      "metadata": {
        "pycharm": {
          "metadata": false,
          "name": "#%% md\n"
        }
      }
    },
    {
      "cell_type": "code",
      "execution_count": 2,
      "outputs": [],
      "source": "\ndef explore_data(dataset, start, end, rows_and_columns\u003dFalse):\n    dataset_slice \u003d dataset[start:end]    \n    for row in dataset_slice:\n        print(row)\n        print(\u0027\\n\u0027) \n\n    if rows_and_columns:\n        print(\u0027Ilość wierszy:\u0027, len(dataset))\n        print(\u0027Ilość kolumn:\u0027, len(dataset[0]))    ",
      "metadata": {
        "pycharm": {
          "metadata": false,
          "name": "#%%\n",
          "is_executing": false
        }
      }
    },
    {
      "cell_type": "code",
      "execution_count": 3,
      "outputs": [
        {
          "name": "stdout",
          "text": [
            "[\u0027App\u0027, \u0027Category\u0027, \u0027Rating\u0027, \u0027Reviews\u0027, \u0027Size\u0027, \u0027Installs\u0027, \u0027Type\u0027, \u0027Price\u0027, \u0027Content Rating\u0027, \u0027Genres\u0027, \u0027Last Updated\u0027, \u0027Current Ver\u0027, \u0027Android Ver\u0027]\n[\u0027Pixel Draw - Number Art Coloring Book\u0027, \u0027ART_AND_DESIGN\u0027, \u00274.3\u0027, \u0027967\u0027, \u00272.8M\u0027, \u0027100,000+\u0027, \u0027Free\u0027, \u00270\u0027, \u0027Everyone\u0027, \u0027Art \u0026 Design;Creativity\u0027, \u0027June 20, 2018\u0027, \u00271.1\u0027, \u00274.4 and up\u0027]\n\n\nIlość wierszy: 10841\nIlość kolumn: 13\n"
          ],
          "output_type": "stream"
        }
      ],
      "source": "print(g_apps_header)\nexplore_data(g_apps, 4, 5, rows_and_columns\u003dTrue)",
      "metadata": {
        "pycharm": {
          "metadata": false,
          "name": "#%%\n",
          "is_executing": false
        }
      }
    },
    {
      "cell_type": "markdown",
      "source": "W zbiorze danych znajdują się 10841 aplikacji Androida. \nInteresujące nas kolumny zbioru to:\n\u0027App\u0027, \u0027Category\u0027, \u0027Reviews\u0027, \u0027Installs\u0027, \u0027Type\u0027, \u0027Price\u0027, and \u0027Genres\u0027.\n\nPrzyjrzyjmy się teraz danym dotyczącym Apps Store. \nW tym zbiorze znajdują się 7197 aplikacje.\nInteresujące kolumny to \u0027track_name\u0027, \u0027currency\u0027, \u0027price\u0027, \u0027rating_count_tot\u0027, \u0027rating_count_ver\u0027, and \u0027prime_genre\u0027.\nObjasnienie zawartości poszczególnych kolumn znajdują się w [dokumentacji](https://www.kaggle.com/ramamet4/app-store-apple-data-set-10k-apps/home)\n",
      "metadata": {
        "pycharm": {
          "metadata": false
        }
      }
    },
    {
      "cell_type": "code",
      "execution_count": 4,
      "outputs": [
        {
          "name": "stdout",
          "text": [
            "[\u0027id\u0027, \u0027track_name\u0027, \u0027size_bytes\u0027, \u0027currency\u0027, \u0027price\u0027, \u0027rating_count_tot\u0027, \u0027rating_count_ver\u0027, \u0027user_rating\u0027, \u0027user_rating_ver\u0027, \u0027ver\u0027, \u0027cont_rating\u0027, \u0027prime_genre\u0027, \u0027sup_devices.num\u0027, \u0027ipadSc_urls.num\u0027, \u0027lang.num\u0027, \u0027vpp_lic\u0027]\n[\u0027284035177\u0027, \u0027Pandora - Music \u0026 Radio\u0027, \u0027130242560\u0027, \u0027USD\u0027, \u00270.0\u0027, \u00271126879\u0027, \u00273594\u0027, \u00274.0\u0027, \u00274.5\u0027, \u00278.4.1\u0027, \u002712+\u0027, \u0027Music\u0027, \u002737\u0027, \u00274\u0027, \u00271\u0027, \u00271\u0027]\n\n\nIlość wierszy: 7197\nIlość kolumn: 16\n"
          ],
          "output_type": "stream"
        }
      ],
      "source": "print(i_apps_header)\nexplore_data(i_apps, 4, 5, rows_and_columns\u003dTrue)",
      "metadata": {
        "pycharm": {
          "metadata": false,
          "name": "#%%\n",
          "is_executing": false
        }
      }
    },
    {
      "cell_type": "markdown",
      "source": "Z informacji znalezionych na [forum](https://www.kaggle.com/lava18/google-play-store-apps/discussion/66015) wynika, że wpis 10472 jest błędny. Porównajmy go z nagłówkiem i poprawnym wpisem.",
      "metadata": {
        "pycharm": {
          "metadata": false,
          "name": "#%% md\n"
        }
      }
    },
    {
      "cell_type": "code",
      "execution_count": 5,
      "outputs": [
        {
          "name": "stdout",
          "text": [
            "[\u0027Life Made WI-Fi Touchscreen Photo Frame\u0027, \u00271.9\u0027, \u002719\u0027, \u00273.0M\u0027, \u00271,000+\u0027, \u0027Free\u0027, \u00270\u0027, \u0027Everyone\u0027, \u0027\u0027, \u0027February 11, 2018\u0027, \u00271.0.19\u0027, \u00274.0 and up\u0027]\n[\u0027App\u0027, \u0027Category\u0027, \u0027Rating\u0027, \u0027Reviews\u0027, \u0027Size\u0027, \u0027Installs\u0027, \u0027Type\u0027, \u0027Price\u0027, \u0027Content Rating\u0027, \u0027Genres\u0027, \u0027Last Updated\u0027, \u0027Current Ver\u0027, \u0027Android Ver\u0027]\n[\u0027Coloring book moana\u0027, \u0027ART_AND_DESIGN\u0027, \u00273.9\u0027, \u0027967\u0027, \u002714M\u0027, \u0027500,000+\u0027, \u0027Free\u0027, \u00270\u0027, \u0027Everyone\u0027, \u0027Art \u0026 Design;Pretend Play\u0027, \u0027January 15, 2018\u0027, \u00272.0.0\u0027, \u00274.0.3 and up\u0027]\n"
          ],
          "output_type": "stream"
        }
      ],
      "source": "print(g_apps[10472]) # błędny wpis\nprint(g_apps_header) # nagłówek\nprint(g_apps[1]) # poprawny wpis\n",
      "metadata": {
        "pycharm": {
          "metadata": false,
          "name": "#%%\n",
          "is_executing": false
        }
      }
    },
    {
      "cell_type": "markdown",
      "source": "Z powyższego wydruku widzimy, że *Life Made WI-Fi Touchscreen Photo Frame* jako kategorię ma 1.9, a jego ocena sięga 19. Żadne z tych danych nie są poprawne. \nW konsekwencji rekord zostaje usunięty: ",
      "metadata": {
        "pycharm": {
          "metadata": false,
          "name": "#%% md\n"
        }
      }
    },
    {
      "cell_type": "code",
      "execution_count": 6,
      "outputs": [
        {
          "name": "stdout",
          "text": [
            "10841\n10840\n"
          ],
          "output_type": "stream"
        }
      ],
      "source": "print(len(g_apps))\ndel g_apps[10472] # wer run it only once :D\nprint(len(g_apps))",
      "metadata": {
        "pycharm": {
          "metadata": false,
          "name": "#%%\n",
          "is_executing": false
        }
      }
    },
    {
      "cell_type": "markdown",
      "source": "## Usuwanie zduplikowanych wpisów\nprzeglądając zbór danych pochodzących z Google Play, można zauważyć, że wpisy niektórych aplikacji pojawiają się wielokrotnie. Sprawdźmy jak ile mamy duplikatów.",
      "metadata": {
        "pycharm": {
          "metadata": false,
          "name": "#%% md\n"
        }
      }
    },
    {
      "cell_type": "code",
      "execution_count": 7,
      "outputs": [
        {
          "name": "stdout",
          "text": [
            "[\u0027Instagram\u0027, \u0027SOCIAL\u0027, \u00274.5\u0027, \u002766577313\u0027, \u0027Varies with device\u0027, \u00271,000,000,000+\u0027, \u0027Free\u0027, \u00270\u0027, \u0027Teen\u0027, \u0027Social\u0027, \u0027July 31, 2018\u0027, \u0027Varies with device\u0027, \u0027Varies with device\u0027]\n[\u0027Instagram\u0027, \u0027SOCIAL\u0027, \u00274.5\u0027, \u002766577446\u0027, \u0027Varies with device\u0027, \u00271,000,000,000+\u0027, \u0027Free\u0027, \u00270\u0027, \u0027Teen\u0027, \u0027Social\u0027, \u0027July 31, 2018\u0027, \u0027Varies with device\u0027, \u0027Varies with device\u0027]\n[\u0027Instagram\u0027, \u0027SOCIAL\u0027, \u00274.5\u0027, \u002766577313\u0027, \u0027Varies with device\u0027, \u00271,000,000,000+\u0027, \u0027Free\u0027, \u00270\u0027, \u0027Teen\u0027, \u0027Social\u0027, \u0027July 31, 2018\u0027, \u0027Varies with device\u0027, \u0027Varies with device\u0027]\n[\u0027Instagram\u0027, \u0027SOCIAL\u0027, \u00274.5\u0027, \u002766509917\u0027, \u0027Varies with device\u0027, \u00271,000,000,000+\u0027, \u0027Free\u0027, \u00270\u0027, \u0027Teen\u0027, \u0027Social\u0027, \u0027July 31, 2018\u0027, \u0027Varies with device\u0027, \u0027Varies with device\u0027]\n"
          ],
          "output_type": "stream"
        }
      ],
      "source": "for record in g_apps:\n    if record[0] \u003d\u003d \u0027Instagram\u0027:\n        print(record)\n",
      "metadata": {
        "pycharm": {
          "metadata": false,
          "name": "#%%\n",
          "is_executing": false
        }
      }
    },
    {
      "cell_type": "markdown",
      "source": "\nPoniższy kod drukuje listę zduplikowanych aplikacji.\n\n",
      "metadata": {
        "pycharm": {
          "metadata": false,
          "name": "#%% md\n"
        }
      }
    },
    {
      "cell_type": "code",
      "execution_count": 8,
      "outputs": [
        {
          "name": "stdout",
          "text": [
            "Wszystkich aplikacji jest 9659.\nW Google Play, jest 798 zduplikowanych aplikacji.\nZduplikowanych wpisów jest 1181. (Aplikacja może mięć wiele wpisów).\nW Apps Store, wszystkich aplikacji jest 7197.\nW Apps Store, jest 0 zduplikowanych aplikacji.\n"
          ],
          "output_type": "stream"
        }
      ],
      "source": "\ndef find_app_entries(data_set):\n    apps \u003d dict()\n    app_entries_multip \u003d 0\n    \n    for app in data_set:\n        app_name \u003d app[0]\n        if app_name in apps:\n            apps[app_name] +\u003d 1\n            app_entries_multip +\u003d 1\n        else:\n            apps[app_name] \u003d 1\n    return apps, app_entries_multip\n\n\ndef find_multi_entries(entries):\n    multi_entries \u003d dict()\n    for app, value in entries.items():\n        if value \u003e 1:\n            multi_entries[app] \u003d value\n    return multi_entries\n\n\ndef print_multi_entries(data_set):\n    apps, multi_entries \u003d find_app_entries(data_set)\n    multi_apps \u003d find_multi_entries(apps)\n    return multi_apps, multi_entries, apps\n\n\n\nmulti_apps, multi_entries, apps \u003d print_multi_entries(g_apps)\n# print(\u0027Zduplikowane aplikacje w Google Play:\u0027)\n# print(multi_apps)\nprint(\"Wszystkich aplikacji jest {}.\".format(len(apps)))\nprint(\u0027W Google Play, jest {} zduplikowanych aplikacji.\u0027.format(len(multi_apps)))\nprint(\u0027Zduplikowanych wpisów jest {}. (Aplikacja może mięć wiele wpisów).\u0027.format(multi_entries))\ni_multi_apps, i_multi_entries, i_app \u003d print_multi_entries(i_apps)\n# print(\u0027Zduplikowany aplikacje w Apps Store\u0027)\n# print(i_multi_apps)\nprint(\u0027W Apps Store, wszystkich aplikacji jest {}.\u0027.format(len(i_app)))\nprint(\u0027W Apps Store, jest {} zduplikowanych aplikacji.\u0027.format(i_multi_entries))\n\n    ",
      "metadata": {
        "pycharm": {
          "metadata": false,
          "name": "#%%\n",
          "is_executing": false
        }
      }
    },
    {
      "cell_type": "markdown",
      "source": "\nNie chcemy analizować aplikacji więcej niż jeden raz, dlatego zbędne wpisy należy usunąć. Jedną z głównych różnic we wpisach zduplikowanych aplikację widać w kolumnie czwartej która odpowiada ilości opinii. Dla naszego badania chcemy zachować te wpisy, które mają największą ilość opinii. W tym celu:\n+ stworzymy słownik w których każdemu kluczowi odpowiada nazwa aplikacji, wartością zaś będzie największa ilość opinii.\n    ",
      "metadata": {
        "pycharm": {
          "metadata": false,
          "name": "#%% md\n"
        }
      }
    },
    {
      "cell_type": "code",
      "execution_count": 9,
      "outputs": [
        {
          "name": "stdout",
          "text": [
            "Spodziewana długość: 9659\nAktualna długość : 9659\n"
          ],
          "output_type": "stream"
        }
      ],
      "source": "max_rev \u003d {}\nfor app in g_apps:\n    app_name \u003d app[0]\n    app_revs \u003d float(app[3])\n    if app_name in max_rev and max_rev[app_name] \u003c app_revs:\n        max_rev[app_name] \u003d app_revs\n    else:\n        max_rev[app_name] \u003d app_revs\nprint(\u0027Spodziewana długość:\u0027, len(g_apps) - multi_entries)\nprint(\u0027Aktualna długość :\u0027, len(max_rev))",
      "metadata": {
        "pycharm": {
          "metadata": false,
          "name": "#%%\n",
          "is_executing": false
        }
      }
    },
    {
      "cell_type": "markdown",
      "source": "Teraz użyjemy `max_rev` aby usunąć powielone wpisy aplikacji i zachowamy te, które maja największą ilość ocen.\n+ Stworzymy dwie listy, `g_apps_clean` i `already_added`.\n+ Przy pomocy pętli sprawdzimy każdą aplikację (`app`) w zbiorze Google Play (`g_apps`):\n    + pobierzemy nazwę i ilość recenzji.\n    + dodamy aplikację do listy `g_apps_clean` i jej nazwę do `already_added` jeśli:\n        + jeśli ilość recenzji zgadza się z ilością zapisaną w `max_rev`, oraz:\n        + aplikacja nie znajduje się już na liście `already_added`. \n        + musimy też wyeliminować przypadki kiedy każdy z powielonych wpisów aplikacji ma taką samą ilość recenzji, dodając warunek",
      "metadata": {
        "pycharm": {
          "metadata": false,
          "name": "#%% md\n"
        }
      }
    },
    {
      "cell_type": "code",
      "execution_count": 10,
      "outputs": [],
      "source": "g_apps_clean \u003d []\nalready_added \u003d []\n\nfor app in g_apps:\n    app_name \u003d app[0]\n    app_revs \u003d float(app[3])\n    if max_rev[app_name] \u003d\u003d app_revs and app_name not in already_added:\n        g_apps_clean.append(app)\n        already_added.append(app_name)\n    ",
      "metadata": {
        "pycharm": {
          "metadata": false,
          "name": "#%%\n",
          "is_executing": false
        }
      }
    },
    {
      "cell_type": "markdown",
      "source": "Sprawdźmy oczyszczoną listę aplikacji:\n",
      "metadata": {
        "pycharm": {
          "metadata": false,
          "name": "#%% md\n"
        }
      }
    },
    {
      "cell_type": "code",
      "execution_count": 11,
      "outputs": [
        {
          "name": "stdout",
          "text": [
            "[\u0027Photo Editor \u0026 Candy Camera \u0026 Grid \u0026 ScrapBook\u0027, \u0027ART_AND_DESIGN\u0027, \u00274.1\u0027, \u0027159\u0027, \u002719M\u0027, \u002710,000+\u0027, \u0027Free\u0027, \u00270\u0027, \u0027Everyone\u0027, \u0027Art \u0026 Design\u0027, \u0027January 7, 2018\u0027, \u00271.0.0\u0027, \u00274.0.3 and up\u0027]\n\n\n[\u0027U Launcher Lite – FREE Live Cool Themes, Hide Apps\u0027, \u0027ART_AND_DESIGN\u0027, \u00274.7\u0027, \u002787510\u0027, \u00278.7M\u0027, \u00275,000,000+\u0027, \u0027Free\u0027, \u00270\u0027, \u0027Everyone\u0027, \u0027Art \u0026 Design\u0027, \u0027August 1, 2018\u0027, \u00271.2.4\u0027, \u00274.0.3 and up\u0027]\n\n\n[\u0027Sketch - Draw \u0026 Paint\u0027, \u0027ART_AND_DESIGN\u0027, \u00274.5\u0027, \u0027215644\u0027, \u002725M\u0027, \u002750,000,000+\u0027, \u0027Free\u0027, \u00270\u0027, \u0027Teen\u0027, \u0027Art \u0026 Design\u0027, \u0027June 8, 2018\u0027, \u0027Varies with device\u0027, \u00274.2 and up\u0027]\n\n\nIlość wierszy: 9659\nIlość kolumn: 13\nNone\n"
          ],
          "output_type": "stream"
        }
      ],
      "source": "print(explore_data(g_apps_clean, 0, 3, True))",
      "metadata": {
        "pycharm": {
          "metadata": false,
          "name": "#%%\n",
          "is_executing": false
        }
      }
    },
    {
      "cell_type": "markdown",
      "source": "## Usuwanie nieanglojęzycznych aplikacji\nPrzeglądając zestaw danych można zauważyć, że nie wszystkie aplikacje są w języku angielskim:\n\n",
      "metadata": {
        "pycharm": {
          "metadata": false,
          "name": "#%% md\n"
        }
      }
    },
    {
      "cell_type": "code",
      "execution_count": 12,
      "outputs": [
        {
          "name": "stdout",
          "text": [
            "爱奇艺PPS -《欢乐颂2》电视剧热播\n【脱出ゲーム】絶対に最後までプレイしないで 〜謎解き＆ブロックパズル〜\n"
          ],
          "output_type": "stream"
        }
      ],
      "source": "print(i_apps[813][1])\nprint(i_apps[6731][1])\n",
      "metadata": {
        "pycharm": {
          "metadata": false,
          "name": "#%%\n",
          "is_executing": false
        }
      }
    },
    {
      "cell_type": "markdown",
      "source": "Nie jesteśmy zainteresowani tego typu aplikacjami, gdyż są one tworzone na bardzo specyficzne rynki. Aby się ich pozbyć, usuniemy wszystkie aplikacje, których nazwy zawierają znaki spoza alfabetu łacińskiego.\nWszystkie znaki alfabetu łacińskiego kodowane są zgodznie ze standardem ASCII. Każdy znak ASCII ma przypisaną mu liczbę pomiędzy 0-127. Uzbrojeni w tą wiedzy możemy użyć wbudowanej funkcji, która znaki nazwy aplikacji. Dzięki niej dowiemy się, czy zawiera ona znaki nie należące do ASCII. Pozostawiamy możliwość akceptacji aplikacji, która posiada do 3 znaków spoza standardu, aby nasz filtr nie był zbyt restrykcyjny i akceptował znaku typu \u0027😜\u0027.\nPoniższa funkcja wykorzystuje wbudowaną funkcję ord().\n",
      "metadata": {
        "pycharm": {
          "metadata": false,
          "name": "#%% md\n"
        }
      }
    },
    {
      "cell_type": "code",
      "execution_count": 13,
      "outputs": [
        {
          "name": "stdout",
          "text": [
            "True\nFalse\nTrue\nTrue\n"
          ],
          "output_type": "stream"
        }
      ],
      "source": "def is_latin(string):\n    non_latin \u003d 0\n    for character in string:\n        if ord(character) \u003e 127:\n            non_latin +\u003d 1\n    if non_latin \u003e 3:\n        return False\n    else:\n        return True\nprint(is_latin(\u0027Instagram\u0027))\nprint(is_latin(\u0027爱奇艺PPS -《欢乐颂2》电视剧热播\u0027))\nprint(is_latin(\u0027Docs To Go™ Free Office Suite\u0027))\nprint(is_latin(\u0027Instachat 😜\u0027))\n",
      "metadata": {
        "pycharm": {
          "metadata": false,
          "name": "#%%\n",
          "is_executing": false
        }
      }
    },
    {
      "cell_type": "markdown",
      "source": "Teraz usuniemy nie anglojęzyczne aplikacje wykorzystując funkcję is_latin",
      "metadata": {
        "pycharm": {
          "metadata": false,
          "name": "#%% md\n"
        }
      }
    },
    {
      "cell_type": "code",
      "execution_count": 14,
      "outputs": [
        {
          "name": "stdout",
          "text": [
            "[\u0027Photo Editor \u0026 Candy Camera \u0026 Grid \u0026 ScrapBook\u0027, \u0027ART_AND_DESIGN\u0027, \u00274.1\u0027, \u0027159\u0027, \u002719M\u0027, \u002710,000+\u0027, \u0027Free\u0027, \u00270\u0027, \u0027Everyone\u0027, \u0027Art \u0026 Design\u0027, \u0027January 7, 2018\u0027, \u00271.0.0\u0027, \u00274.0.3 and up\u0027]\n\n\n[\u0027U Launcher Lite – FREE Live Cool Themes, Hide Apps\u0027, \u0027ART_AND_DESIGN\u0027, \u00274.7\u0027, \u002787510\u0027, \u00278.7M\u0027, \u00275,000,000+\u0027, \u0027Free\u0027, \u00270\u0027, \u0027Everyone\u0027, \u0027Art \u0026 Design\u0027, \u0027August 1, 2018\u0027, \u00271.2.4\u0027, \u00274.0.3 and up\u0027]\n\n\n[\u0027Sketch - Draw \u0026 Paint\u0027, \u0027ART_AND_DESIGN\u0027, \u00274.5\u0027, \u0027215644\u0027, \u002725M\u0027, \u002750,000,000+\u0027, \u0027Free\u0027, \u00270\u0027, \u0027Teen\u0027, \u0027Art \u0026 Design\u0027, \u0027June 8, 2018\u0027, \u0027Varies with device\u0027, \u00274.2 and up\u0027]\n\n\nIlość wierszy: 9614\nIlość kolumn: 13\n\n\n[\u0027284882215\u0027, \u0027Facebook\u0027, \u0027389879808\u0027, \u0027USD\u0027, \u00270.0\u0027, \u00272974676\u0027, \u0027212\u0027, \u00273.5\u0027, \u00273.5\u0027, \u002795.0\u0027, \u00274+\u0027, \u0027Social Networking\u0027, \u002737\u0027, \u00271\u0027, \u002729\u0027, \u00271\u0027]\n\n\n[\u0027389801252\u0027, \u0027Instagram\u0027, \u0027113954816\u0027, \u0027USD\u0027, \u00270.0\u0027, \u00272161558\u0027, \u00271289\u0027, \u00274.5\u0027, \u00274.0\u0027, \u002710.23\u0027, \u002712+\u0027, \u0027Photo \u0026 Video\u0027, \u002737\u0027, \u00270\u0027, \u002729\u0027, \u00271\u0027]\n\n\n[\u0027529479190\u0027, \u0027Clash of Clans\u0027, \u0027116476928\u0027, \u0027USD\u0027, \u00270.0\u0027, \u00272130805\u0027, \u0027579\u0027, \u00274.5\u0027, \u00274.5\u0027, \u00279.24.12\u0027, \u00279+\u0027, \u0027Games\u0027, \u002738\u0027, \u00275\u0027, \u002718\u0027, \u00271\u0027]\n\n\nIlość wierszy: 6183\nIlość kolumn: 16\n"
          ],
          "output_type": "stream"
        }
      ],
      "source": "g_apps_en \u003d []\ni_apps_en \u003d []\n\nfor app in g_apps_clean:\n    name \u003d app[0]\n    if is_latin(name):\n        g_apps_en.append(app)\n                         \nfor app in i_apps:\n    name \u003d app[1]\n    if is_latin(name):\n        i_apps_en.append(app)\n        \nexplore_data(g_apps_en, 0, 3, True)\nprint(\u0027\\n\u0027)\nexplore_data(i_apps_en, 0, 3, True)\n",
      "metadata": {
        "pycharm": {
          "metadata": false,
          "name": "#%%\n",
          "is_executing": false
        }
      }
    },
    {
      "cell_type": "markdown",
      "source": "Wyszukajmy teraz darmowe aplikacje.",
      "metadata": {
        "pycharm": {
          "metadata": false,
          "name": "#%% md\n"
        }
      }
    },
    {
      "cell_type": "code",
      "execution_count": 15,
      "outputs": [],
      "source": "\nandroid_final \u003d []\nios_final \u003d []\ndef find_free_apps(data_set, price_id):\n    for app in data_set:\n        price \u003d app[price_id]\n        if price \u003d\u003d \u00270\u0027 or price \u003d\u003d \u00270.0\u0027:\n            if data_set \u003d\u003d g_apps_en:\n                android_final.append(app)\n            elif data_set \u003d\u003d i_apps_en:\n                ios_final.append(app)\n    \nfind_free_apps(g_apps_en, 7)\nfind_free_apps(i_apps_en, 4)",
      "metadata": {
        "pycharm": {
          "metadata": false,
          "name": "#%%\n",
          "is_executing": false
        }
      }
    },
    {
      "cell_type": "code",
      "execution_count": 16,
      "outputs": [
        {
          "name": "stdout",
          "text": [
            "8864\n3222\n"
          ],
          "output_type": "stream"
        }
      ],
      "source": "print(len(android_final))\nprint(len(ios_final))\n",
      "metadata": {
        "pycharm": {
          "metadata": false,
          "name": "#%%\n",
          "is_executing": false
        }
      }
    },
    {
      "cell_type": "markdown",
      "source": "Ostatecznie mamy do analizy 8864 aplikacje Google Play i 3222 z Apps Store. ",
      "metadata": {
        "pycharm": {
          "metadata": false,
          "name": "#%% md\n"
        }
      }
    },
    {
      "cell_type": "markdown",
      "source": "## Najpopularniejsze typy aplikacji\nTak jak to wspomnieliśmy wcześniej, naszym celem jest stworzenie profilu aplikacji, które przyciągnęłyby jak najwięcej użytkowników, gdyż naszym modelem zarabiana jest wyświetlanie reklam w darmowych aplikacjach.\nAby ograniczyć koszty operacyjne, nasza strategia polega na:\n1. Zbudowaniu minimalnej aplikacji dla systemu android.\n2. Jeśli aplikacja spotka się z przychylnym przyjęciem, dalszy jej rozwój.\n3. Jeśli po 6 miesiącach aplikacja zacznie przynosić zysk, zbudowaniu wersji pod iOS i umieszeniu jej w App Store.\n\nPonieważ naszym celem jest stworzenie aplikacji zarówno pod Androida jak i iOS, powinna ona sobie radzić, na obydwu rynkach. \nZacznijmy naszą analizę od poznania najbardziej popularnych kategorii na obu rynkach. ",
      "metadata": {
        "pycharm": {
          "metadata": false,
          "name": "#%% md\n"
        }
      }
    },
    {
      "cell_type": "code",
      "execution_count": 17,
      "outputs": [],
      "source": "def freq_table_prep(dataset, index):\n    freq \u003d {}\n    total \u003d 0\n    for row in dataset:\n        name \u003d row[index]\n        if name in freq:\n            freq[name] +\u003d1\n            total +\u003d1\n        elif name not in freq:\n            freq[name] \u003d 1\n            total +\u003d 1\n    return freq, total\n            \ndef freq_table(dataset, index):\n    freq_percentages \u003d {}\n    freq, total \u003d freq_table_prep(dataset, index)\n    for key in freq:\n        freq_percentages[key] \u003d (freq[key] / total) * 100\n    return freq_percentages\n    \ndef display_table(dataset, index):\n    table \u003d freq_table(dataset, index)\n    table_display \u003d []\n    for key in table:\n        key_val_as_tuple \u003d (table[key], key)\n        table_display.append(key_val_as_tuple)\n\n    table_sorted \u003d sorted(table_display, reverse \u003d True)\n    for entry in table_sorted:\n        print(entry[1], \u0027:\u0027, entry[0])\n",
      "metadata": {
        "pycharm": {
          "metadata": false,
          "name": "#%%\n",
          "is_executing": false
        }
      }
    },
    {
      "cell_type": "markdown",
      "source": "Zaczniemy naszą analizę od tabeli częstotliwości dla kolumny `prime_genre` z App Store.\n",
      "metadata": {
        "pycharm": {
          "metadata": false,
          "name": "#%% md\n"
        }
      }
    },
    {
      "cell_type": "code",
      "execution_count": 18,
      "outputs": [
        {
          "name": "stdout",
          "text": [
            "Games : 58.16263190564867\nEntertainment : 7.883302296710118\nPhoto \u0026 Video : 4.9658597144630665\nEducation : 3.662321539416512\nSocial Networking : 3.2898820608317814\nShopping : 2.60707635009311\nUtilities : 2.5139664804469275\nSports : 2.1415270018621975\nMusic : 2.0484171322160147\nHealth \u0026 Fitness : 2.0173805090006205\nProductivity : 1.7380509000620732\nLifestyle : 1.5828677839851024\nNews : 1.3345747982619491\nTravel : 1.2414649286157666\nFinance : 1.1173184357541899\nWeather : 0.8690254500310366\nFood \u0026 Drink : 0.8069522036002483\nReference : 0.5586592178770949\nBusiness : 0.5276225946617008\nBook : 0.4345127250155183\nNavigation : 0.186219739292365\nMedical : 0.186219739292365\nCatalogs : 0.12414649286157665\n"
          ],
          "output_type": "stream"
        }
      ],
      "source": "display_table(ios_final, -5)\n",
      "metadata": {
        "pycharm": {
          "metadata": false,
          "name": "#%%\n",
          "is_executing": false
        }
      }
    },
    {
      "cell_type": "markdown",
      "source": "Jak widać najpopularniejsze z darmowych aplikacji to gry (\"Games\") jest ich ponad połowa (58,16%). Aplikacji związanych z rozrywką (\"Entertainment\") jest prawie osiem procent (7.88%). Następną w popularności kategoria to Zdjęcia i wideo (\"Photo \u0026 Video\") z prawie pięcioma procentami (4.96). Aplikacje związane z Edukacją (\"Education\") stanowią zaledwie 3.66% ogółu darmowych aplikacji. Jeszcze mniej jest aplikacji związanych z sieciami społecznymi (\"Social Networking\") jedynie 3.29%.\n\nJak widać najwięcej anglojęzycznych darmowych aplikacji związanych jest z ogólnie rozumianą rozrywką. Aplikacje mające praktyczne zastosowanie (nauka, zakupy, lifestyle) są raczej rzadkością.\n\nIlość rozrywkowych aplikacji jeszcze nic nam nie mówi o ich popularności wśród użytkowników. Może się okazać, że praktyczne aplikacje mają znacznie więcej użytkowników.\n\nSprawdźmy teraz jak przedstawiają się proporcje w Google Play w kolumnach Genres i Category",
      "metadata": {
        "pycharm": {
          "metadata": false,
          "name": "#%% md\n",
          "is_executing": false
        }
      }
    },
    {
      "cell_type": "code",
      "execution_count": 19,
      "outputs": [
        {
          "name": "stdout",
          "text": [
            "FAMILY : 19.223826714801444\nGAME : 9.510379061371841\nTOOLS : 8.461191335740072\nBUSINESS : 4.580324909747293\nLIFESTYLE : 3.9034296028880866\nPRODUCTIVITY : 3.892148014440433\nFINANCE : 3.7003610108303246\nMEDICAL : 3.5424187725631766\nSPORTS : 3.4183212996389893\nPERSONALIZATION : 3.3167870036101084\nCOMMUNICATION : 3.2490974729241873\nHEALTH_AND_FITNESS : 3.068592057761733\nPHOTOGRAPHY : 2.944494584837545\nNEWS_AND_MAGAZINES : 2.7978339350180503\nSOCIAL : 2.6624548736462095\nTRAVEL_AND_LOCAL : 2.33528880866426\nSHOPPING : 2.2450361010830324\nBOOKS_AND_REFERENCE : 2.1435018050541514\nDATING : 1.861462093862816\nVIDEO_PLAYERS : 1.782490974729242\nMAPS_AND_NAVIGATION : 1.3989169675090252\nFOOD_AND_DRINK : 1.2409747292418771\nEDUCATION : 1.128158844765343\nLIBRARIES_AND_DEMO : 0.9363718411552346\nAUTO_AND_VEHICLES : 0.9250902527075812\nENTERTAINMENT : 0.8799638989169676\nHOUSE_AND_HOME : 0.8235559566787004\nWEATHER : 0.8009927797833934\nEVENTS : 0.7107400722021661\nPARENTING : 0.6543321299638989\nART_AND_DESIGN : 0.6430505415162455\nCOMICS : 0.6204873646209386\nBEAUTY : 0.5979241877256317\n"
          ],
          "output_type": "stream"
        }
      ],
      "source": "display_table(android_final, 1) # Category\n",
      "metadata": {
        "pycharm": {
          "metadata": false,
          "name": "#%%\n",
          "is_executing": false
        }
      }
    },
    {
      "cell_type": "markdown",
      "source": "Na pierwszy rzut oka ilość w poszczególnych kategoriach w Google Play różni się znacznie od tego co widzieliśmy w App Store. Praktyczne aplikacje zdają się dominować. Mamy 19.22% aplikacji w kategorii rodzina (\"FAMILY\"), narzędzia (\"TOOLS\") mają 8.46% a biznes (\"BUSINESS\") powyżej czterech procent (4.58%). Gier (\"GAME\") jest tylko 9.51%. Jednak po bliższym przyjrzeniu się kategorii rodzina, wyrażnie widać, że większość z aplikacji do niej należących to gry dla dzieci.\n![img](https://s3.amazonaws.com/dq-content/350/py1m8_family.png) Source: [play.google.com](https://play.google.com/store/apps/category/FAMILY?hl\u003den)\n\nPodobny obraz ukazuje się nam przy analizie tabeli częstotliwości kolumny gatunek (\"Genres\"):",
      "metadata": {
        "pycharm": {
          "metadata": false,
          "name": "#%% md\n"
        }
      }
    },
    {
      "cell_type": "code",
      "execution_count": 20,
      "outputs": [
        {
          "name": "stdout",
          "text": [
            "Tools : 8.449909747292418\nEntertainment : 6.069494584837545\nEducation : 5.347472924187725\nBusiness : 4.580324909747293\nProductivity : 3.892148014440433\nLifestyle : 3.892148014440433\nFinance : 3.7003610108303246\nMedical : 3.5424187725631766\nSports : 3.463447653429603\nPersonalization : 3.3167870036101084\nCommunication : 3.2490974729241873\nAction : 3.1024368231046933\nHealth \u0026 Fitness : 3.068592057761733\nPhotography : 2.944494584837545\nNews \u0026 Magazines : 2.7978339350180503\nSocial : 2.6624548736462095\nTravel \u0026 Local : 2.3240072202166067\nShopping : 2.2450361010830324\nBooks \u0026 Reference : 2.1435018050541514\nSimulation : 2.0419675090252705\nDating : 1.861462093862816\nArcade : 1.861462093862816\nVideo Players \u0026 Editors : 1.782490974729242\nCasual : 1.7486462093862816\nMaps \u0026 Navigation : 1.3989169675090252\nFood \u0026 Drink : 1.2409747292418771\nPuzzle : 1.128158844765343\nRacing : 0.9927797833935018\nRole Playing : 0.9363718411552346\nLibraries \u0026 Demo : 0.9363718411552346\nAuto \u0026 Vehicles : 0.9250902527075812\nStrategy : 0.9138086642599278\nHouse \u0026 Home : 0.8235559566787004\nWeather : 0.8009927797833934\nEvents : 0.7107400722021661\nAdventure : 0.6768953068592057\nComics : 0.6092057761732852\nBeauty : 0.5979241877256317\nArt \u0026 Design : 0.5979241877256317\nParenting : 0.4963898916967509\nCard : 0.4399819494584838\nCasino : 0.42870036101083037\nTrivia : 0.41741877256317694\nEducational;Education : 0.39485559566787\nBoard : 0.3835740072202166\nEducational : 0.3722924187725632\nEducation;Education : 0.33844765342960287\nWord : 0.2594765342960289\nCasual;Pretend Play : 0.236913357400722\nMusic : 0.2030685920577617\nRacing;Action \u0026 Adventure : 0.16922382671480143\nPuzzle;Brain Games : 0.16922382671480143\nEntertainment;Music \u0026 Video : 0.16922382671480143\nCasual;Brain Games : 0.13537906137184114\nCasual;Action \u0026 Adventure : 0.13537906137184114\nArcade;Action \u0026 Adventure : 0.12409747292418773\nAction;Action \u0026 Adventure : 0.10153429602888085\nEducational;Pretend Play : 0.09025270758122744\nSimulation;Action \u0026 Adventure : 0.078971119133574\nParenting;Education : 0.078971119133574\nEntertainment;Brain Games : 0.078971119133574\nBoard;Brain Games : 0.078971119133574\nParenting;Music \u0026 Video : 0.06768953068592057\nEducational;Brain Games : 0.06768953068592057\nCasual;Creativity : 0.06768953068592057\nArt \u0026 Design;Creativity : 0.06768953068592057\nEducation;Pretend Play : 0.056407942238267145\nRole Playing;Pretend Play : 0.04512635379061372\nEducation;Creativity : 0.04512635379061372\nRole Playing;Action \u0026 Adventure : 0.033844765342960284\nPuzzle;Action \u0026 Adventure : 0.033844765342960284\nEntertainment;Creativity : 0.033844765342960284\nEntertainment;Action \u0026 Adventure : 0.033844765342960284\nEducational;Creativity : 0.033844765342960284\nEducational;Action \u0026 Adventure : 0.033844765342960284\nEducation;Music \u0026 Video : 0.033844765342960284\nEducation;Brain Games : 0.033844765342960284\nEducation;Action \u0026 Adventure : 0.033844765342960284\nAdventure;Action \u0026 Adventure : 0.033844765342960284\nVideo Players \u0026 Editors;Music \u0026 Video : 0.02256317689530686\nSports;Action \u0026 Adventure : 0.02256317689530686\nSimulation;Pretend Play : 0.02256317689530686\nPuzzle;Creativity : 0.02256317689530686\nMusic;Music \u0026 Video : 0.02256317689530686\nEntertainment;Pretend Play : 0.02256317689530686\nCasual;Education : 0.02256317689530686\nBoard;Action \u0026 Adventure : 0.02256317689530686\nTrivia;Education : 0.01128158844765343\nTravel \u0026 Local;Action \u0026 Adventure : 0.01128158844765343\nTools;Education : 0.01128158844765343\nStrategy;Education : 0.01128158844765343\nStrategy;Creativity : 0.01128158844765343\nStrategy;Action \u0026 Adventure : 0.01128158844765343\nSimulation;Education : 0.01128158844765343\nRole Playing;Brain Games : 0.01128158844765343\nRacing;Pretend Play : 0.01128158844765343\nPuzzle;Education : 0.01128158844765343\nParenting;Brain Games : 0.01128158844765343\nMusic \u0026 Audio;Music \u0026 Video : 0.01128158844765343\nLifestyle;Pretend Play : 0.01128158844765343\nLifestyle;Education : 0.01128158844765343\nHealth \u0026 Fitness;Education : 0.01128158844765343\nHealth \u0026 Fitness;Action \u0026 Adventure : 0.01128158844765343\nEntertainment;Education : 0.01128158844765343\nCommunication;Creativity : 0.01128158844765343\nComics;Creativity : 0.01128158844765343\nCasual;Music \u0026 Video : 0.01128158844765343\nCard;Brain Games : 0.01128158844765343\nCard;Action \u0026 Adventure : 0.01128158844765343\nBooks \u0026 Reference;Education : 0.01128158844765343\nArt \u0026 Design;Pretend Play : 0.01128158844765343\nArt \u0026 Design;Action \u0026 Adventure : 0.01128158844765343\nArcade;Pretend Play : 0.01128158844765343\nAdventure;Education : 0.01128158844765343\n"
          ],
          "output_type": "stream"
        }
      ],
      "source": "display_table(android_final, -4)",
      "metadata": {
        "pycharm": {
          "metadata": false,
          "name": "#%%\n",
          "is_executing": false
        }
      }
    },
    {
      "cell_type": "markdown",
      "source": "Różnica pomiędzy kolumną kategoria i gatunek nie jest oczywista. Wydaje się, że tabela częstotliwości gatunku jest bardziej szczegółowa.\n\nZ powższej analizy wiemy już, że App Store jest zdominowane przez aplikacje związane z grą i zabawą, natomiast rozkład aplikacji w Google Play jest znacznie zrównoważony. \n\nPrzyjrzyjmy się teraz aplikacjom, które są najbardziej popularne.\n## Najpopularniejsze aplikacje w gatunku w App Store \nW przeciwieństiw do Google Play, gdzie mamy podaną ilość instalacji aplikacji, App Store nie udostępnia tej informacji. Jako obejście tego problemu posłużymy się informacją o ilości opinii zawartą w kolumnie `rating_count_tot`.\nPoniżej obliczymy średnią ilość użytkowników na gatunek w App Store:",
      "metadata": {
        "pycharm": {
          "metadata": false,
          "name": "#%% md\n"
        }
      }
    },
    {
      "cell_type": "code",
      "execution_count": 21,
      "outputs": [
        {
          "name": "stdout",
          "text": [
            "Social Networking : 71548.34905660378\nPhoto \u0026 Video : 28441.54375\nGames : 22788.6696905016\nMusic : 57326.530303030304\nReference : 74942.11111111111\nHealth \u0026 Fitness : 23298.015384615384\nWeather : 52279.892857142855\nUtilities : 18684.456790123455\nTravel : 28243.8\nShopping : 26919.690476190477\nNews : 21248.023255813954\nNavigation : 86090.33333333333\nLifestyle : 16485.764705882353\nEntertainment : 14029.830708661417\nFood \u0026 Drink : 33333.92307692308\nSports : 23008.898550724636\nBook : 39758.5\nFinance : 31467.944444444445\nEducation : 7003.983050847458\nProductivity : 21028.410714285714\nBusiness : 7491.117647058823\nCatalogs : 4004.0\nMedical : 612.0\n"
          ],
          "output_type": "stream"
        }
      ],
      "source": "genres_ios \u003d freq_table(ios_final, -5)\nfor genre in genres_ios:\n    total \u003d 0\n    len_genre \u003d 0\n    for app in ios_final:\n        genre_app \u003d app[-5]\n        if genre_app \u003d\u003d genre:\n            n_ratings \u003d float(app[5])\n            total +\u003d n_ratings\n            len_genre +\u003d 1\n    avg_n_ratings \u003d total / len_genre\n    print(genre, \u0027:\u0027, avg_n_ratings)        ",
      "metadata": {
        "pycharm": {
          "metadata": false,
          "name": "#%%\n",
          "is_executing": false
        }
      }
    },
    {
      "cell_type": "markdown",
      "source": "Średnio największą ilość opinii mają aplikacje nawigacji. Gatunek ten jest zdominowany prze Waze i Google Maps.",
      "metadata": {
        "pycharm": {
          "metadata": false,
          "name": "#%% md\n"
        }
      }
    },
    {
      "cell_type": "code",
      "execution_count": 22,
      "outputs": [
        {
          "name": "stdout",
          "text": [
            "Waze - GPS Navigation, Maps \u0026 Real-time Traffic : 345046\nGoogle Maps - Navigation \u0026 Transit : 154911\nGeocaching® : 12811\nCoPilot GPS – Car Navigation \u0026 Offline Maps : 3582\nImmobilienScout24: Real Estate Search in Germany : 187\nRailway Route Search : 5\n"
          ],
          "output_type": "stream"
        }
      ],
      "source": "for app in ios_final:\n    if app[-5] \u003d\u003d \u0027Navigation\u0027:\n        print(app[1], \u0027:\u0027, app[5])\n",
      "metadata": {
        "pycharm": {
          "metadata": false,
          "name": "#%%\n",
          "is_executing": false
        }
      }
    },
    {
      "cell_type": "markdown",
      "source": "Podobnie sprawa się ma w przypadku aplikacji społecznościowych (\"Social Networking\"), gdzie pozycje dominującą mają duzi gracze jak FaceBook czy Skype.\nNaszym celem jest znalezienie popularnych gatunków aplikacji. Popularność aplikacji społecznościowych i muzycznych może być wypaczone przez niezwykłą popularność kilku aplikacji. Reszta natomiast już taką popularnością się nie cieszy.\nGatunek referencje (\"Reference\") ma średnio 74942 opinii, ale większość z nich stanowią opinie aplikacji Bible i Dictionary.com:",
      "metadata": {
        "pycharm": {
          "metadata": false,
          "name": "#%% md\n"
        }
      }
    },
    {
      "cell_type": "code",
      "execution_count": 26,
      "outputs": [
        {
          "name": "stdout",
          "text": [
            "Bible : 985920\nDictionary.com Dictionary \u0026 Thesaurus : 200047\nDictionary.com Dictionary \u0026 Thesaurus for iPad : 54175\nGoogle Translate : 26786\nMuslim Pro: Ramadan 2017 Prayer Times, Azan, Quran : 18418\nNew Furniture Mods - Pocket Wiki \u0026 Game Tools for Minecraft PC Edition : 17588\nMerriam-Webster Dictionary : 16849\nNight Sky : 12122\nCity Maps for Minecraft PE - The Best Maps for Minecraft Pocket Edition (MCPE) : 8535\nLUCKY BLOCK MOD ™ for Minecraft PC Edition - The Best Pocket Wiki \u0026 Mods Installer Tools : 4693\nGUNS MODS for Minecraft PC Edition - Mods Tools : 1497\nGuides for Pokémon GO - Pokemon GO News and Cheats : 826\nWWDC : 762\nHorror Maps for Minecraft PE - Download The Scariest Maps for Minecraft Pocket Edition (MCPE) Free : 718\nVPN Express : 14\nReal Bike Traffic Rider Virtual Reality Glasses : 8\n教えて!goo : 0\nJishokun-Japanese English Dictionary \u0026 Translator : 0\n"
          ],
          "output_type": "stream"
        }
      ],
      "source": "for app in ios_final:\n    if app[-5] \u003d\u003d \u0027Reference\u0027:\n        print(app[1], \u0027:\u0027, app[5])",
      "metadata": {
        "pycharm": {
          "metadata": false,
          "name": "#%%\n",
          "is_executing": false
        }
      }
    },
    {
      "cell_type": "markdown",
      "source": "Choć Biblia dominuje ranking, to ten typ aplikacji ma może mieć potencjał. Można stworzyć aplikację opartą o inny popularny tekst. Oprócz samego tekstu, aplikacja może mieć takie funkcje jak cytat dnia, nagrania, quizy, itd. Ma to o tyle sens, że jak się wydaje, rynek aplikacji związany z rozrywką zdaje się być nasycony.\n ",
      "metadata": {
        "pycharm": {
          "metadata": false,
          "name": "#%% md\n"
        }
      }
    },
    {
      "cell_type": "markdown",
      "source": "## Najpopularniejsze aplikacje w gatunku w Google Play\nW przypadku Google Play mamy dostęp do informacji na temat ilości instalacji, jest on jednak nieprecyzyjny. Większość wartości jest otwartych (1,000,000+, 1,000+ 500+, itd.).\n\n",
      "metadata": {
        "pycharm": {
          "metadata": false,
          "name": "#%% md\n"
        }
      }
    },
    {
      "cell_type": "code",
      "execution_count": 28,
      "outputs": [
        {
          "name": "stdout",
          "text": [
            "1,000,000+ : 15.749097472924186\n100,000+ : 11.563628158844766\n10,000,000+ : 10.503158844765343\n10,000+ : 10.209837545126353\n1,000+ : 8.393501805054152\n100+ : 6.915613718411552\n5,000,000+ : 6.825361010830325\n500,000+ : 5.561823104693141\n50,000+ : 4.7721119133574\n5,000+ : 4.512635379061372\n10+ : 3.5424187725631766\n500+ : 3.2490974729241873\n50,000,000+ : 2.3014440433213\n100,000,000+ : 2.1322202166064983\n50+ : 1.917870036101083\n5+ : 0.78971119133574\n1+ : 0.5076714801444043\n500,000,000+ : 0.2707581227436823\n1,000,000,000+ : 0.22563176895306858\n0+ : 0.04512635379061372\n0 : 0.01128158844765343\n"
          ],
          "output_type": "stream"
        }
      ],
      "source": "display_table(android_final, 5) # the Installs columns",
      "metadata": {
        "pycharm": {
          "metadata": false,
          "name": "#%%\n",
          "is_executing": false
        }
      }
    },
    {
      "cell_type": "markdown",
      "source": "W naszym przypadku, te zaokrąglone wartością nie są dużym problemem, nie potrzebujemy dokładnych danych na temat ilości instalacji aplikacji, aby określić jakie typy aplikacji cieszą się popularnością. W analizie użyjemy niżej podanych zaokrąglonych wartości.",
      "metadata": {
        "pycharm": {
          "metadata": false,
          "name": "#%% md\n"
        }
      }
    },
    {
      "cell_type": "code",
      "execution_count": 37,
      "outputs": [
        {
          "name": "stdout",
          "text": [
            "ART_AND_DESIGN , 1986335.0877192982\nAUTO_AND_VEHICLES , 647317.8170731707\nBEAUTY , 513151.88679245283\nBOOKS_AND_REFERENCE , 8767811.894736841\nBUSINESS , 1704192.3399014778\nCOMICS , 817657.2727272727\nCOMMUNICATION , 38326063.197916664\nDATING , 854028.8303030303\nEDUCATION , 1768500.0\nENTERTAINMENT , 9146923.076923076\nEVENTS , 253542.22222222222\nFINANCE , 1387692.475609756\nFOOD_AND_DRINK , 1924897.7363636363\nHEALTH_AND_FITNESS , 4167457.3602941176\nHOUSE_AND_HOME , 1331540.5616438356\nLIBRARIES_AND_DEMO , 638503.734939759\nLIFESTYLE , 1437816.2687861272\nGAME , 12914435.883748516\nFAMILY , 5180161.789906103\nMEDICAL , 123064.7898089172\nSOCIAL , 23253652.127118643\nSHOPPING , 7036877.311557789\nPHOTOGRAPHY , 17840110.40229885\nSPORTS , 4274688.722772277\nTRAVEL_AND_LOCAL , 13984077.710144928\nTOOLS , 10801391.298666667\nPERSONALIZATION , 5201482.6122448975\nPRODUCTIVITY , 16772838.591304347\nPARENTING , 542603.6206896552\nWEATHER , 5074486.197183099\nVIDEO_PLAYERS , 24790074.17721519\nNEWS_AND_MAGAZINES , 9549178.467741935\nMAPS_AND_NAVIGATION , 4056941.7741935486\n"
          ],
          "output_type": "stream"
        }
      ],
      "source": "# print(g_apps_header)\n# print(display_table(android_final, 1))\ncategories_android \u003d freq_table(android_final, 1)\n\nfor category in categories_android:\n    total \u003d 0\n    len_category \u003d 0\n    for app in android_final:\n        category_app \u003d app[1]\n        if category_app \u003d\u003d category:            \n            n_installs \u003d app[5]\n            n_installs \u003d n_installs.replace(\u0027,\u0027, \u0027\u0027)\n            n_installs \u003d n_installs.replace(\u0027+\u0027, \u0027\u0027)\n            total +\u003d float(n_installs)\n            len_category +\u003d 1\n    avg_n_installs \u003d total / len_category\n    print(category, \u0027,\u0027, avg_n_installs)",
      "metadata": {
        "pycharm": {
          "metadata": false,
          "name": "#%%\n",
          "is_executing": false
        }
      }
    },
    {
      "cell_type": "markdown",
      "source": "Średnio aplikacje związane z komunikacją (COMMUNICATION , 38326063) mają najwięcej instalacji.",
      "metadata": {
        "pycharm": {
          "metadata": false,
          "name": "#%% md\n"
        }
      }
    },
    {
      "cell_type": "code",
      "execution_count": 38,
      "outputs": [
        {
          "name": "stdout",
          "text": [
            "Messenger – Text and Video Chat for Free : 1,000,000,000+\nGmail : 1,000,000,000+\nimo beta free calls and text : 100,000,000+\nimo free video calls and chat : 500,000,000+\nAndroid Messages : 100,000,000+\nGoogle Duo - High Quality Video Calls : 500,000,000+\nUC Browser - Fast Download Private \u0026 Secure : 500,000,000+\nSkype - free IM \u0026 video calls : 1,000,000,000+\nWho : 100,000,000+\nGO SMS Pro - Messenger, Free Themes, Emoji : 100,000,000+\nWhatsApp Messenger : 1,000,000,000+\nGoogle Chrome: Fast \u0026 Secure : 1,000,000,000+\nFirefox Browser fast \u0026 private : 100,000,000+\nMessenger Lite: Free Calls \u0026 Messages : 100,000,000+\nLINE: Free Calls \u0026 Messages : 500,000,000+\nHangouts : 1,000,000,000+\nKik : 100,000,000+\nKakaoTalk: Free Calls \u0026 Text : 100,000,000+\nOpera Mini - fast web browser : 100,000,000+\nOpera Browser: Fast and Secure : 100,000,000+\nTelegram : 100,000,000+\nTruecaller: Caller ID, SMS spam blocking \u0026 Dialer : 100,000,000+\nUC Browser Mini -Tiny Fast Private \u0026 Secure : 100,000,000+\nViber Messenger : 500,000,000+\nWeChat : 100,000,000+\nYahoo Mail – Stay Organized : 100,000,000+\nBBM - Free Calls \u0026 Messages : 100,000,000+\n"
          ],
          "output_type": "stream"
        }
      ],
      "source": "for app in android_final:\n    if app[1] \u003d\u003d \u0027COMMUNICATION\u0027 and (app[5] \u003d\u003d \u00271,000,000,000+\u0027\n                                      or app[5] \u003d\u003d \u0027500,000,000+\u0027\n                                      or app[5] \u003d\u003d \u0027100,000,000+\u0027):\n        print(app[0], \u0027:\u0027, app[5])",
      "metadata": {
        "pycharm": {
          "metadata": false,
          "name": "#%%\n",
          "is_executing": false
        }
      }
    },
    {
      "cell_type": "markdown",
      "source": "Jeśli usuniemy aplikacje, które mają średnio ponad milion instalacji, śrenia instalacji jest około dziesięciokrotnie mniejsza:",
      "metadata": {
        "pycharm": {
          "metadata": false,
          "name": "#%% md\n"
        }
      }
    },
    {
      "cell_type": "code",
      "execution_count": 39,
      "outputs": [
        {
          "data": {
            "text/plain": "3593510.3486590036"
          },
          "metadata": {},
          "output_type": "execute_result",
          "execution_count": 39
        }
      ],
      "source": "under_100_m \u003d []\n\nfor app in android_final:\n    n_installs \u003d app[5]\n    n_installs \u003d n_installs.replace(\u0027,\u0027, \u0027\u0027)\n    n_installs \u003d n_installs.replace(\u0027+\u0027, \u0027\u0027)\n    if (app[1] \u003d\u003d \u0027COMMUNICATION\u0027) and (float(n_installs) \u003c 100000000):\n        under_100_m.append(float(n_installs))\n        \nsum(under_100_m) / len(under_100_m)",
      "metadata": {
        "pycharm": {
          "metadata": false,
          "name": "#%%\n",
          "is_executing": false
        }
      }
    },
    {
      "cell_type": "markdown",
      "source": "Podobny wzorzec można dostrzec wśród aplikacji wideo, social media i aplikacjami związanymi z fotografią. Kilka bardzo popularnych aplikacji, takich jak, YouTube, Facebook, Instagram, Google Photo, dominuje rynek. Trudno rywalizować z gigantami stojącymi za tymi aplikacjami. Gry również są popularne, ale rynek wydaje się być nimi nasycony.\n\nSpójrzmy teraz na gatunek \"BOOKS_AND_REFERENCE\" w Google Play. wcześniej, w przypadku Apps Store, stwierdziliśmy że nisza aplikacji związanych z książkami jest obiecująca. Naszym celem jest znalezienie profili opłacalnych aplikacji w obu sklepach. \n\nŚrednia ilość instalacji w tym gatunku jest 8,767,811. Spójrzmy na aplikacje i ilość instalacji.",
      "metadata": {
        "pycharm": {
          "metadata": false,
          "name": "#%% md\n"
        }
      }
    },
    {
      "cell_type": "code",
      "execution_count": 40,
      "outputs": [
        {
          "name": "stdout",
          "text": [
            "E-Book Read - Read Book for free : 50,000+\nDownload free book with green book : 100,000+\nWikipedia : 10,000,000+\nCool Reader : 10,000,000+\nFree Panda Radio Music : 100,000+\nBook store : 1,000,000+\nFBReader: Favorite Book Reader : 10,000,000+\nEnglish Grammar Complete Handbook : 500,000+\nFree Books - Spirit Fanfiction and Stories : 1,000,000+\nGoogle Play Books : 1,000,000,000+\nAlReader -any text book reader : 5,000,000+\nOffline English Dictionary : 100,000+\nOffline: English to Tagalog Dictionary : 500,000+\nFamilySearch Tree : 1,000,000+\nCloud of Books : 1,000,000+\nRecipes of Prophetic Medicine for free : 500,000+\nReadEra – free ebook reader : 1,000,000+\nAnonymous caller detection : 10,000+\nEbook Reader : 5,000,000+\nLitnet - E-books : 100,000+\nRead books online : 5,000,000+\nEnglish to Urdu Dictionary : 500,000+\neBoox: book reader fb2 epub zip : 1,000,000+\nEnglish Persian Dictionary : 500,000+\nFlybook : 500,000+\nAll Maths Formulas : 1,000,000+\nAncestry : 5,000,000+\nHTC Help : 10,000,000+\nEnglish translation from Bengali : 100,000+\nPdf Book Download - Read Pdf Book : 100,000+\nFree Book Reader : 100,000+\neBoox new: Reader for fb2 epub zip books : 50,000+\nOnly 30 days in English, the guideline is guaranteed : 500,000+\nMoon+ Reader : 10,000,000+\nSH-02J Owner\u0027s Manual (Android 8.0) : 50,000+\nEnglish-Myanmar Dictionary : 1,000,000+\nGolden Dictionary (EN-AR) : 1,000,000+\nAll Language Translator Free : 1,000,000+\nAzpen eReader : 500,000+\nURBANO V 02 instruction manual : 100,000+\nBible : 100,000,000+\nC Programs and Reference : 50,000+\nC Offline Tutorial : 1,000+\nC Programs Handbook : 50,000+\nAmazon Kindle : 100,000,000+\nAab e Hayat Full Novel : 100,000+\nAldiko Book Reader : 10,000,000+\nGoogle I/O 2018 : 500,000+\nR Language Reference Guide : 10,000+\nLearn R Programming Full : 5,000+\nR Programing Offline Tutorial : 1,000+\nGuide for R Programming : 5+\nLearn R Programming : 10+\nR Quick Reference Big Data : 1,000+\nV Made : 100,000+\nWattpad 📖 Free Books : 100,000,000+\nDictionary - WordWeb : 5,000,000+\nGuide (for X-MEN) : 100,000+\nAC Air condition Troubleshoot,Repair,Maintenance : 5,000+\nAE Bulletins : 1,000+\nAe Allah na Dai (Rasa) : 10,000+\n50000 Free eBooks \u0026 Free AudioBooks : 5,000,000+\nAg PhD Field Guide : 10,000+\nAg PhD Deficiencies : 10,000+\nAg PhD Planting Population Calculator : 1,000+\nAg PhD Soybean Diseases : 1,000+\nFertilizer Removal By Crop : 50,000+\nA-J Media Vault : 50+\nAl-Quran (Free) : 10,000,000+\nAl Quran (Tafsir \u0026 by Word) : 500,000+\nAl Quran Indonesia : 10,000,000+\nAl\u0027Quran Bahasa Indonesia : 10,000,000+\nAl Quran Al karim : 1,000,000+\nAl-Muhaffiz : 50,000+\nAl Quran : EAlim - Translations \u0026 MP3 Offline : 5,000,000+\nAl-Quran 30 Juz free copies : 500,000+\nKoran Read \u0026MP3 30 Juz Offline : 1,000,000+\nHafizi Quran 15 lines per page : 1,000,000+\nQuran for Android : 10,000,000+\nSurah Al-Waqiah : 100,000+\nHisnul Al Muslim - Hisn Invocations \u0026 Adhkaar : 100,000+\nSatellite AR : 1,000,000+\nAudiobooks from Audible : 100,000,000+\nKinot \u0026 Eichah for Tisha B\u0027Av : 10,000+\nAW Tozer Devotionals - Daily : 5,000+\nTozer Devotional -Series 1 : 1,000+\nThe Pursuit of God : 1,000+\nAY Sing : 5,000+\nAy Hasnain k Nana Milad Naat : 10,000+\nAy Mohabbat Teri Khatir Novel : 10,000+\nArizona Statutes, ARS (AZ Law) : 1,000+\nOxford A-Z of English Usage : 1,000,000+\nBD Fishpedia : 1,000+\nBD All Sim Offer : 10,000+\nYouboox - Livres, BD et magazines : 500,000+\nB\u0026H Kids AR : 10,000+\nB y H Niños ES : 5,000+\nDictionary.com: Find Definitions for English Words : 10,000,000+\nEnglish Dictionary - Offline : 10,000,000+\nBible KJV : 5,000,000+\nBorneo Bible, BM Bible : 10,000+\nMOD Black for BM : 100+\nBM Box : 1,000+\nAnime Mod for BM : 100+\nNOOK: Read eBooks \u0026 Magazines : 10,000,000+\nNOOK Audiobooks : 500,000+\nNOOK App for NOOK Devices : 500,000+\nBrowsery by Barnes \u0026 Noble : 5,000+\nbp e-store : 1,000+\nBrilliant Quotes: Life, Love, Family \u0026 Motivation : 1,000,000+\nBR Ambedkar Biography \u0026 Quotes : 10,000+\nBU Alsace : 100+\nCatholic La Bu Zo Kam : 500+\nKhrifa Hla Bu (Solfa) : 10+\nKristian Hla Bu : 10,000+\nSA HLA BU : 1,000+\nLearn SAP BW : 500+\nLearn SAP BW on HANA : 500+\nCA Laws 2018 (California Laws and Codes) : 5,000+\nBootable Methods(USB-CD-DVD) : 10,000+\ncloudLibrary : 100,000+\nSDA Collegiate Quarterly : 500+\nSabbath School : 100,000+\nCypress College Library : 100+\nStats Royale for Clash Royale : 1,000,000+\nGATE 21 years CS Papers(2011-2018 Solved) : 50+\nLearn CT Scan Of Head : 5,000+\nEasy Cv maker 2018 : 10,000+\nHow to Write CV : 100,000+\nCW Nuclear : 1,000+\nCY Spray nozzle : 10+\nBibleRead En Cy Zh Yue : 5+\nCZ-Help : 5+\nModlitební knížka CZ : 500+\nGuide for DB Xenoverse : 10,000+\nGuide for DB Xenoverse 2 : 10,000+\nGuide for IMS DB : 10+\nDC HSEMA : 5,000+\nDC Public Library : 1,000+\nPainting Lulu DC Super Friends : 1,000+\nDictionary : 10,000,000+\nFix Error Google Playstore : 1,000+\nD. H. Lawrence Poems FREE : 1,000+\nBilingual Dictionary Audio App : 5,000+\nDM Screen : 10,000+\nwikiHow: how to do anything : 1,000,000+\nDr. Doug\u0027s Tips : 1,000+\nBible du Semeur-BDS (French) : 50,000+\nLa citadelle du musulman : 50,000+\nDV 2019 Entry Guide : 10,000+\nDV 2019 - EDV Photo \u0026 Form : 50,000+\nDV 2018 Winners Guide : 1,000+\nEB Annual Meetings : 1,000+\nEC - AP \u0026 Telangana : 5,000+\nTN Patta Citta \u0026 EC : 10,000+\nAP Stamps and Registration : 10,000+\nCompactiMa EC pH Calibration : 100+\nEGW Writings 2 : 100,000+\nEGW Writings : 1,000,000+\nBible with EGW Comments : 100,000+\nMy Little Pony AR Guide : 1,000,000+\nSDA Sabbath School Quarterly : 500,000+\nDuaa Ek Ibaadat : 5,000+\nSpanish English Translator : 10,000,000+\nDictionary - Merriam-Webster : 10,000,000+\nJW Library : 10,000,000+\nOxford Dictionary of English : Free : 10,000,000+\nEnglish Hindi Dictionary : 10,000,000+\nEnglish to Hindi Dictionary : 5,000,000+\nEP Research Service : 1,000+\nHymnes et Louanges : 100,000+\nEU Charter : 1,000+\nEU Data Protection : 1,000+\nEU IP Codes : 100+\nEW PDF : 5+\nBakaReader EX : 100,000+\nEZ Quran : 50,000+\nFA Part 1 \u0026 2 Past Papers Solved Free – Offline : 5,000+\nLa Fe de Jesus : 1,000+\nLa Fe de Jesús : 500+\nLe Fe de Jesus : 500+\nFlorida - Pocket Brainbook : 1,000+\nFlorida Statutes (FL Code) : 1,000+\nEnglish To Shona Dictionary : 10,000+\nGreek Bible FP (Audio) : 1,000+\nGolden Dictionary (FR-AR) : 500,000+\nFanfic-FR : 5,000+\nBulgarian French Dictionary Fr : 10,000+\nChemin (fr) : 1,000+\nThe SCP Foundation DB fr nn5n : 1,000+\n"
          ],
          "output_type": "stream"
        }
      ],
      "source": "for app in android_final:\n    if app[1] \u003d\u003d \u0027BOOKS_AND_REFERENCE\u0027:\n        print(app[0], \u0027:\u0027, app[5])",
      "metadata": {
        "pycharm": {
          "metadata": false,
          "name": "#%%\n",
          "is_executing": false
        }
      }
    },
    {
      "cell_type": "markdown",
      "source": "Aplikacje zawierają książki, referencje, słowniki, aplikacje do czytania e-booków, jak również materiały związane z programowaniem. Jest też kilka niezwykle popularnych aplikacji:",
      "metadata": {
        "pycharm": {
          "metadata": false,
          "name": "#%% md\n"
        }
      }
    },
    {
      "cell_type": "code",
      "execution_count": 42,
      "outputs": [
        {
          "name": "stdout",
          "text": [
            "Google Play Books : 1,000,000,000+\nBible : 100,000,000+\nAmazon Kindle : 100,000,000+\nWattpad 📖 Free Books : 100,000,000+\nAudiobooks from Audible : 100,000,000+\n"
          ],
          "output_type": "stream"
        }
      ],
      "source": "for app in android_final:\n    if app[1] \u003d\u003d \u0027BOOKS_AND_REFERENCE\u0027 and (app[5] \u003d\u003d \u00271,000,000,000+\u0027\n                                            or app[5] \u003d\u003d \u0027500,000,000+\u0027\n                                            or app[5] \u003d\u003d \u0027100,000,000+\u0027):\n        print(app[0], \u0027:\u0027, app[5])",
      "metadata": {
        "pycharm": {
          "metadata": false,
          "name": "#%%\n",
          "is_executing": false
        }
      }
    },
    {
      "cell_type": "markdown",
      "source": "Tych aplikacji jest jednak niewiele, więc jest miejsce na podobne przedsięwzięcia.\n\nSprawdźmy jakie są aplikacje cieszące się umiarkowaną popularnością:",
      "metadata": {
        "pycharm": {
          "metadata": false,
          "name": "#%% md\n"
        }
      }
    },
    {
      "cell_type": "code",
      "execution_count": 43,
      "outputs": [
        {
          "name": "stdout",
          "text": [
            "Wikipedia : 10,000,000+\nCool Reader : 10,000,000+\nBook store : 1,000,000+\nFBReader: Favorite Book Reader : 10,000,000+\nFree Books - Spirit Fanfiction and Stories : 1,000,000+\nAlReader -any text book reader : 5,000,000+\nFamilySearch Tree : 1,000,000+\nCloud of Books : 1,000,000+\nReadEra – free ebook reader : 1,000,000+\nEbook Reader : 5,000,000+\nRead books online : 5,000,000+\neBoox: book reader fb2 epub zip : 1,000,000+\nAll Maths Formulas : 1,000,000+\nAncestry : 5,000,000+\nHTC Help : 10,000,000+\nMoon+ Reader : 10,000,000+\nEnglish-Myanmar Dictionary : 1,000,000+\nGolden Dictionary (EN-AR) : 1,000,000+\nAll Language Translator Free : 1,000,000+\nAldiko Book Reader : 10,000,000+\nDictionary - WordWeb : 5,000,000+\n50000 Free eBooks \u0026 Free AudioBooks : 5,000,000+\nAl-Quran (Free) : 10,000,000+\nAl Quran Indonesia : 10,000,000+\nAl\u0027Quran Bahasa Indonesia : 10,000,000+\nAl Quran Al karim : 1,000,000+\nAl Quran : EAlim - Translations \u0026 MP3 Offline : 5,000,000+\nKoran Read \u0026MP3 30 Juz Offline : 1,000,000+\nHafizi Quran 15 lines per page : 1,000,000+\nQuran for Android : 10,000,000+\nSatellite AR : 1,000,000+\nOxford A-Z of English Usage : 1,000,000+\nDictionary.com: Find Definitions for English Words : 10,000,000+\nEnglish Dictionary - Offline : 10,000,000+\nBible KJV : 5,000,000+\nNOOK: Read eBooks \u0026 Magazines : 10,000,000+\nBrilliant Quotes: Life, Love, Family \u0026 Motivation : 1,000,000+\nStats Royale for Clash Royale : 1,000,000+\nDictionary : 10,000,000+\nwikiHow: how to do anything : 1,000,000+\nEGW Writings : 1,000,000+\nMy Little Pony AR Guide : 1,000,000+\nSpanish English Translator : 10,000,000+\nDictionary - Merriam-Webster : 10,000,000+\nJW Library : 10,000,000+\nOxford Dictionary of English : Free : 10,000,000+\nEnglish Hindi Dictionary : 10,000,000+\nEnglish to Hindi Dictionary : 5,000,000+\n"
          ],
          "output_type": "stream"
        }
      ],
      "source": "for app in android_final:\n    if app[1] \u003d\u003d \u0027BOOKS_AND_REFERENCE\u0027 and (app[5] \u003d\u003d \u00271,000,000+\u0027\n                                            or app[5] \u003d\u003d \u00275,000,000+\u0027\n                                            or app[5] \u003d\u003d \u002710,000,000+\u0027\n                                            or app[5] \u003d\u003d \u002750,000,000+\u0027):\n        print(app[0], \u0027:\u0027, app[5])",
      "metadata": {
        "pycharm": {
          "metadata": false,
          "name": "#%%\n",
          "is_executing": false
        }
      }
    },
    {
      "cell_type": "markdown",
      "source": "W tym przedziale popularności dominują słowniki, czytniki więc najprawdopodobniej nie najlepszą strategią będzie konkurować z nimi.\n\nWarto zwrócić uwagę na popularność aplikacji związanych z Koranem. Potencjalnym kierunkiem rozwoju nowych aplikacji może być skupienie się na popularnych tekstach oraz dostarczenie przydatnych rozwiązań do studiowania ich. \n## Wnioski\nAnalizowaliśmy sklepy z aplikacjami, Google Play i App Store w celu znalezienia niszy dla nowych aplikacji mogących przynieść dochody z prezentowania reklam. \nNaszą uwagę zwróciła nisza książek i aplikacji z nią związanych. Doszliśmy do wniosku, że aplikacja zbudowana wokół popularnego tekstu, dostarczająca dodatkowe udogodnienia, takie jak cytat dnia, quizy, forum itd, jest obiecującą drogą na rozwój w obu wyżej wymienionych serwisach.\n",
      "metadata": {
        "pycharm": {
          "metadata": false,
          "name": "#%% md\n"
        }
      }
    }
  ],
  "metadata": {
    "language_info": {
      "codemirror_mode": {
        "name": "ipython",
        "version": 2
      },
      "file_extension": ".py",
      "mimetype": "text/x-python",
      "name": "python",
      "nbconvert_exporter": "python",
      "pygments_lexer": "ipython2",
      "version": "2.7.6"
    },
    "kernelspec": {
      "name": "python3",
      "language": "python",
      "display_name": "Python 3"
    },
    "stem_cell": {
      "cell_type": "raw",
      "source": "",
      "metadata": {
        "pycharm": {
          "metadata": false
        }
      }
    }
  },
  "nbformat": 4,
  "nbformat_minor": 0
}